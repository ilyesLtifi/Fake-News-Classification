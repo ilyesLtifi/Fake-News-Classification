{
 "cells": [
  {
   "cell_type": "code",
   "execution_count": 1,
   "metadata": {},
   "outputs": [],
   "source": [
    "%run imports.ipynb\n",
    "\n",
    "%run read_dataset_1.ipynb\n",
    "%run read_dataset_2.ipynb\n",
    "\n",
    "%run execute_algorithm.ipynb"
   ]
  },
  {
   "cell_type": "code",
   "execution_count": null,
   "metadata": {},
   "outputs": [],
   "source": [
    "execute_algorithm(dataset_1, CountVectorizer(stop_words='english'), MultinomialNB(alpha=0.1))"
   ]
  },
  {
   "cell_type": "code",
   "execution_count": 2,
   "metadata": {},
   "outputs": [],
   "source": [
    "algorithms = [MultinomialNB(alpha=0.1), \n",
    "              GaussianNB(), \n",
    "              PassiveAggressiveClassifier(max_iter=300), \n",
    "              DecisionTreeClassifier(), \n",
    "              RandomForestClassifier(), \n",
    "              SVC(), \n",
    "              LogisticRegression()]"
   ]
  },
  {
   "cell_type": "code",
   "execution_count": 3,
   "metadata": {},
   "outputs": [],
   "source": [
    "vectorizers = [CountVectorizer(stop_words='english'), \n",
    "               HashingVectorizer(stop_words='english'), \n",
    "               TfidfVectorizer(stop_words='english', max_df=0.7)]"
   ]
  },
  {
   "cell_type": "code",
   "execution_count": null,
   "metadata": {},
   "outputs": [],
   "source": [
    "candidates = []\n",
    "\n",
    "for algorithm in algorithms:\n",
    "    for vectorizer in vectorizers:\n",
    "        try:\n",
    "            score = execute_algorithm(dataset_1, vectorizer, algorithm)\n",
    "            candidates.append([score, algorithm.__class__.__name__, vectorizer.__class__.__name__])\n",
    "        except:\n",
    "            print('Error with ' + algorithm.__class__.__name__ + ' and ' + vectorizer.__class__.__name__)\n",
    "\n",
    "\n",
    "candidates.sort(reverse=True)\n",
    "\n",
    "print(candidates[0])\n",
    "print(candidates[1])\n",
    "print(candidates[2])"
   ]
  }
 ],
 "metadata": {
  "kernelspec": {
   "display_name": "Python 3",
   "language": "python",
   "name": "python3"
  },
  "language_info": {
   "codemirror_mode": {
    "name": "ipython",
    "version": 3
   },
   "file_extension": ".py",
   "mimetype": "text/x-python",
   "name": "python",
   "nbconvert_exporter": "python",
   "pygments_lexer": "ipython3",
   "version": "3.6.9"
  }
 },
 "nbformat": 4,
 "nbformat_minor": 4
}
