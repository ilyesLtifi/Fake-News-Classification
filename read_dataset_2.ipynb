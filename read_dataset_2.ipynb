{
 "cells": [
  {
   "cell_type": "code",
   "execution_count": null,
   "metadata": {},
   "outputs": [],
   "source": [
    "fake = pd.read_csv(\"Fake.csv\")\n",
    "real = pd.read_csv(\"True.csv\")\n",
    "\n",
    "#First Creating list of index that do not have publication part\n",
    "unknown_publishers = []\n",
    "for index,row in enumerate(real.text.values):\n",
    "    try:\n",
    "        record = row.split(\" -\", maxsplit=1)\n",
    "        #if no text part is present, following will give error\n",
    "        record[1]\n",
    "        #if len of publication part is greater than 260\n",
    "        #following will give error, ensuring no text having \"-\" in between is counted\n",
    "        assert(len(record[0]) < 260)\n",
    "    except:\n",
    "        unknown_publishers.append(index)\n",
    "\n",
    "\n",
    "# separating publishers from the news text\n",
    "publisher = []\n",
    "tmp_text = []\n",
    "for index,row in enumerate(real.text.values):\n",
    "    if index in unknown_publishers:\n",
    "        #add text to tmp_text and \"unknown\" to publisher\n",
    "        tmp_text.append(row)\n",
    "        \n",
    "        publisher.append(\"Unknown\")\n",
    "        continue\n",
    "    record = row.split(\" -\", maxsplit=1)\n",
    "    publisher.append(record[0])\n",
    "    tmp_text.append(record[1])\n",
    "\n",
    "    \n",
    "#Replace existing text column with new text\n",
    "#add seperate column for publication info\n",
    "real[\"publisher\"] = publisher\n",
    "real[\"text\"] = tmp_text\n",
    "\n",
    "\n",
    "real['text'] = real['title'] + \" \" + real['text']\n",
    "fake['text'] = fake['title'] + \" \" + fake['text']\n",
    "\n",
    "# Adding class info \n",
    "real['label'] = 'REAL' \n",
    "fake['label'] = 'FAKE'\n",
    "\n",
    "real.drop([\"subject\", \"date\",\"title\", \"publisher\"], axis=1, inplace=True)\n",
    "fake.drop([\"subject\", \"date\", \"title\"], axis=1, inplace=True)\n",
    "\n",
    "dataset_2 = real.append(fake, ignore_index=True)\n",
    "\n",
    "# For shuffling\n",
    "dataset_2 = dataset_2.sample(frac=1).reset_index(drop=True)"
   ]
  }
 ],
 "metadata": {
  "kernelspec": {
   "display_name": "Python 3",
   "language": "python",
   "name": "python3"
  },
  "language_info": {
   "codemirror_mode": {
    "name": "ipython",
    "version": 3
   },
   "file_extension": ".py",
   "mimetype": "text/x-python",
   "name": "python",
   "nbconvert_exporter": "python",
   "pygments_lexer": "ipython3",
   "version": "3.6.9"
  }
 },
 "nbformat": 4,
 "nbformat_minor": 4
}
