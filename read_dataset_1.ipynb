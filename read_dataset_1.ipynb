{
 "cells": [
  {
   "cell_type": "code",
   "execution_count": null,
   "metadata": {},
   "outputs": [],
   "source": [
    "dataset_1 = pd.read_csv(\"fake_or_real_news.csv\")\n",
    "\n",
    "dataset_1.drop(dataset_1.columns[[0]], axis=1, inplace=True)\n",
    "\n",
    "dataset_1['text'] = dataset_1['title'] + \" \" + dataset_1['text']\n",
    "\n",
    "dataset_1.drop('title', axis=1, inplace=True)"
   ]
  }
 ],
 "metadata": {
  "kernelspec": {
   "display_name": "Python 3",
   "language": "python",
   "name": "python3"
  },
  "language_info": {
   "codemirror_mode": {
    "name": "ipython",
    "version": 3
   },
   "file_extension": ".py",
   "mimetype": "text/x-python",
   "name": "python",
   "nbconvert_exporter": "python",
   "pygments_lexer": "ipython3",
   "version": "3.6.9"
  }
 },
 "nbformat": 4,
 "nbformat_minor": 4
}
