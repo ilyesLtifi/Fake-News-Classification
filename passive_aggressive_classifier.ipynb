{
 "cells": [
  {
   "cell_type": "code",
   "execution_count": null,
   "metadata": {},
   "outputs": [],
   "source": [
    "def passive_aggressive_classifier(train, test, y_train, y_test):\n",
    "\n",
    "    classifier = PassiveAggressiveClassifier(max_iter=300) \n",
    "\n",
    "    classifier.fit(train, y_train)\n",
    "    pred = classifier.predict(test)\n",
    "    score = accuracy_score(y_test, pred)\n",
    "\n",
    "    print(\"Accuracy:   %0.3f\" % score)\n",
    "\n",
    "    cm = confusion_matrix(y_test, pred, labels=['FAKE', 'REAL'])\n",
    "\n",
    "    plot_confusion_matrix(conf_mat=cm,show_absolute=True, show_normed=True, colorbar=True,class_names=['FAKE','REAL'])\n",
    "    \n",
    "    return score"
   ]
  }
 ],
 "metadata": {
  "kernelspec": {
   "display_name": "Python 3",
   "language": "python",
   "name": "python3"
  },
  "language_info": {
   "codemirror_mode": {
    "name": "ipython",
    "version": 3
   },
   "file_extension": ".py",
   "mimetype": "text/x-python",
   "name": "python",
   "nbconvert_exporter": "python",
   "pygments_lexer": "ipython3",
   "version": "3.6.9"
  }
 },
 "nbformat": 4,
 "nbformat_minor": 4
}
