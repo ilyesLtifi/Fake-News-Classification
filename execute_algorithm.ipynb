{
 "cells": [
  {
   "cell_type": "code",
   "execution_count": null,
   "metadata": {},
   "outputs": [],
   "source": [
    "def execute_algorithm(dataset, vectorizer, classifier):\n",
    "\n",
    "    y = dataset.label \n",
    "    dataset.drop(\"label\", axis=1)\n",
    "\n",
    "    X_train, X_test, y_train, y_test = train_test_split(dataset['text'], y, test_size=0.25, random_state=1)\n",
    "\n",
    "\n",
    "    vectorizer_train = vectorizer.fit_transform(X_train) \n",
    "\n",
    "    vectorizer_test = vectorizer.transform(X_test)\n",
    "    \n",
    "\n",
    "    if classifier.__class__.__name__ == 'GaussianNB':\n",
    "        classifier.fit(vectorizer_train.toarray(), y_train)\n",
    "    else:\n",
    "        classifier.fit(vectorizer_train, y_train)\n",
    " \n",
    "    if classifier.__class__.__name__ == 'GaussianNB':\n",
    "        pred = classifier.predict(vectorizer_test.toarray())\n",
    "    else:\n",
    "        pred = classifier.predict(vectorizer_test)\n",
    "    \n",
    "    score = accuracy_score(y_test, pred)\n",
    "\n",
    "#     print(\"Accuracy:  %0.3f\" % score)\n",
    "\n",
    "    cm = confusion_matrix(y_test, pred, labels=['FAKE', 'REAL'])\n",
    "\n",
    "    plot_confusion_matrix(conf_mat=cm, \n",
    "                          show_absolute=True, \n",
    "                          show_normed=True, \n",
    "                          colorbar=True, \n",
    "                          class_names=['FAKE','REAL'], \n",
    "                          title=classifier.__class__.__name__ + vectorizer.__class__.__name__)\n",
    "    \n",
    "    return score"
   ]
  }
 ],
 "metadata": {
  "kernelspec": {
   "display_name": "Python 3",
   "language": "python",
   "name": "python3"
  },
  "language_info": {
   "codemirror_mode": {
    "name": "ipython",
    "version": 3
   },
   "file_extension": ".py",
   "mimetype": "text/x-python",
   "name": "python",
   "nbconvert_exporter": "python",
   "pygments_lexer": "ipython3",
   "version": "3.6.9"
  }
 },
 "nbformat": 4,
 "nbformat_minor": 4
}
