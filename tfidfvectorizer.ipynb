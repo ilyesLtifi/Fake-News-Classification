{
 "cells": [
  {
   "cell_type": "code",
   "execution_count": null,
   "metadata": {},
   "outputs": [],
   "source": [
    "def tfidfvectorizer(dataset):\n",
    "    \n",
    "    y = dataset.label \n",
    "    dataset.drop(\"label\", axis=1)\n",
    "\n",
    "    X_train, X_test, y_train, y_test = train_test_split(dataset['text'], y, test_size=0.25, random_state=1)\n",
    "\n",
    "    \n",
    "    tfidf_vectorizer = TfidfVectorizer(stop_words='english', max_df=0.7) \n",
    "\n",
    "    tfidf_train = tfidf_vectorizer.fit_transform(X_train) \n",
    "\n",
    "    tfidf_test = tfidf_vectorizer.transform(X_test)\n",
    "\n",
    "    return tfidf_train, tfidf_test, y_train, y_test"
   ]
  }
 ],
 "metadata": {
  "kernelspec": {
   "display_name": "Python 3",
   "language": "python",
   "name": "python3"
  },
  "language_info": {
   "codemirror_mode": {
    "name": "ipython",
    "version": 3
   },
   "file_extension": ".py",
   "mimetype": "text/x-python",
   "name": "python",
   "nbconvert_exporter": "python",
   "pygments_lexer": "ipython3",
   "version": "3.6.9"
  }
 },
 "nbformat": 4,
 "nbformat_minor": 4
}
